{
    "metadata": {
        "kernelspec": {
            "name": "SQL",
            "display_name": "SQL",
            "language": "sql"
        },
        "language_info": {
            "name": "sql",
            "version": ""
        },
        "extensions": {
            "azuredatastudio": {
                "version": 1,
                "views": []
            }
        }
    },
    "nbformat_minor": 2,
    "nbformat": 4,
    "cells": [
        {
            "cell_type": "markdown",
            "source": [
                "# SQL Part 3 Studio\n",
                "\n",
                "### Let's practice your SQL quering skills!  For each question, work along in the notebook adding your query and answering the questions. \n",
                "\n",
                "### **DataSet**\n",
                "\n",
                "### <span style=\"font-size: 14px; font-family: -apple-system, BlinkMacSystemFont, sans-serif;\">We will be using the Goodbooks-10k dataset from the exercises in the prep work.&nbsp; Feel free reference your previous notebooks.</span>\n",
                "\n",
                "- The dataset can be found here: [goodbooks-10k](https://www.kaggle.com/zygmunt/goodbooks-10k)\n",
                "- You can access the **BooksDB** in the Launchcode server.\n",
                "\n",
                "### **Business Issue**\n",
                "\n",
                "You are an employee at a small independet bookstore and you have been tasked to increase sales.  You decide to use the BooksDB to find books and themes to highlight in fun promotions throughout each month / season.  We will be starting with March and then you will have a chance to explore another month of your choosing.  We want to come up with a list of events/ promotions to run each month.  If you are looking for ideas to include in your promotions:\n",
                "\n",
                "- [https://www.calendarr.com/united-states/calendar-2022/](https://www.calendarr.com/united-states/calendar-2022/)\n",
                "- [https://www.holidayinsights.com/moreholidays/](https://www.holidayinsights.com/moreholidays/)\n",
                "    - Click on a month and it will take you to a more detailed page"
            ],
            "metadata": {
                "azdata_cell_guid": "b9034d8a-b631-48bf-a895-1012a6ffa784"
            },
            "attachments": {}
        },
        {
            "cell_type": "markdown",
            "source": [
                "## Part 1:  March - Women's History Month, Dr Seuss Day(3/2), National Pie Day3/14, St Patrick's Day (3/17), Season - Spring"
            ],
            "metadata": {
                "azdata_cell_guid": "6e55eb1c-4a14-4076-90d2-95ed17a6309f"
            },
            "attachments": {}
        },
        {
            "cell_type": "markdown",
            "source": [
                "### **Event 1:** Women's History Month\n",
                "\n",
                "Goal: Highlight Popular Womans Authors based on ratings from the Good Reads DB.\n",
                "\n",
                "### **Write a query that returns tag\\_id, the number of times each tag\\_id is used and the tag\\_name.**  \n",
                "\n",
                "### Use the GROUP BY and HAVING clause to narrow your focus.\n",
                "\n",
                "Try multiple keywords, ie woman vs female (female ended up giving better results)"
            ],
            "metadata": {
                "azdata_cell_guid": "d220c097-e9cf-4edd-9abe-312d071217b7"
            },
            "attachments": {}
        },
        {
            "cell_type": "code",
            "source": [
                "-- Solution\n",
                "SELECT n.tag_id, n.tag_name, sum(t.count) AS 'Total Tags'\n",
                "FROM BooksDB.dbo.book_tags t\n",
                "JOIN BooksDB.dbo.tags as n\n",
                "ON t.tag_id = n.tag_id \n",
                "GROUP BY n.tag_id, n.tag_name\n",
                "HAVING n.tag_name LIKE '%wom_n%' OR n.tag_name LIKE '%female%'\n",
                "ORDER BY 'Total Tags' DESC"
            ],
            "metadata": {
                "azdata_cell_guid": "e31b9d26-0386-44c7-828e-85f4f06f3ee6",
                "language": "sql"
            },
            "outputs": [
                {
                    "output_type": "display_data",
                    "data": {
                        "text/html": "(151 rows affected)"
                    },
                    "metadata": {}
                },
                {
                    "output_type": "display_data",
                    "data": {
                        "text/html": "Total execution time: 00:00:00.321"
                    },
                    "metadata": {}
                },
                {
                    "output_type": "execute_result",
                    "metadata": {},
                    "execution_count": 6,
                    "data": {
                        "application/vnd.dataresource+json": {
                            "schema": {
                                "fields": [
                                    {
                                        "name": "tag_id"
                                    },
                                    {
                                        "name": "tag_name"
                                    },
                                    {
                                        "name": "Total Tags"
                                    }
                                ]
                            },
                            "data": [
                                {
                                    "0": "32686",
                                    "1": "women",
                                    "2": "24243"
                                },
                                {
                                    "0": "11643",
                                    "1": "female-author",
                                    "2": "17999"
                                },
                                {
                                    "0": "11644",
                                    "1": "female-authors",
                                    "2": "13690"
                                },
                                {
                                    "0": "32708",
                                    "1": "women-s-fiction",
                                    "2": "6052"
                                },
                                {
                                    "0": "32724",
                                    "1": "women-writers",
                                    "2": "5652"
                                },
                                {
                                    "0": "32726",
                                    "1": "womens-fiction",
                                    "2": "4740"
                                },
                                {
                                    "0": "32688",
                                    "1": "women-authors",
                                    "2": "4113"
                                },
                                {
                                    "0": "32716",
                                    "1": "women-s-murder-club",
                                    "2": "2578"
                                },
                                {
                                    "0": "11658",
                                    "1": "female-protagonist",
                                    "2": "2554"
                                },
                                {
                                    "0": "32732",
                                    "1": "womens-murder-club",
                                    "2": "1218"
                                },
                                {
                                    "0": "32702",
                                    "1": "women-of-the-otherworld",
                                    "2": "1021"
                                },
                                {
                                    "0": "28839",
                                    "1": "strong-women",
                                    "2": "641"
                                },
                                {
                                    "0": "32720",
                                    "1": "women-s-studies",
                                    "2": "624"
                                },
                                {
                                    "0": "32717",
                                    "1": "women-s-murder-club-series",
                                    "2": "373"
                                },
                                {
                                    "0": "16122",
                                    "1": "james-patterson-women-s-murder-club",
                                    "2": "357"
                                },
                                {
                                    "0": "32735",
                                    "1": "womens-studies",
                                    "2": "335"
                                },
                                {
                                    "0": "11646",
                                    "1": "female-detective",
                                    "2": "302"
                                },
                                {
                                    "0": "32733",
                                    "1": "womens-murder-club-series",
                                    "2": "217"
                                },
                                {
                                    "0": "16123",
                                    "1": "james-patterson-womens-murder-club",
                                    "2": "161"
                                },
                                {
                                    "0": "32703",
                                    "1": "women-of-the-otherworld-series",
                                    "2": "156"
                                },
                                {
                                    "0": "11656",
                                    "1": "female-pov",
                                    "2": "155"
                                },
                                {
                                    "0": "11662",
                                    "1": "female-writers",
                                    "2": "147"
                                },
                                {
                                    "0": "32681",
                                    "1": "woman-s-murder-club",
                                    "2": "136"
                                },
                                {
                                    "0": "32711",
                                    "1": "women-s-issues",
                                    "2": "133"
                                },
                                {
                                    "0": "11642",
                                    "1": "female",
                                    "2": "133"
                                },
                                {
                                    "0": "32719",
                                    "1": "women-s-rights",
                                    "2": "103"
                                },
                                {
                                    "0": "22271",
                                    "1": "older-woman-younger-man",
                                    "2": "97"
                                },
                                {
                                    "0": "19038",
                                    "1": "man-woman",
                                    "2": "93"
                                },
                                {
                                    "0": "32685",
                                    "1": "womans-murder-club",
                                    "2": "88"
                                },
                                {
                                    "0": "32740",
                                    "1": "wonder-woman",
                                    "2": "88"
                                },
                                {
                                    "0": "32704",
                                    "1": "women-of-the-underworld",
                                    "2": "78"
                                },
                                {
                                    "0": "18423",
                                    "1": "little-women",
                                    "2": "76"
                                },
                                {
                                    "0": "16121",
                                    "1": "james-patterson-women-s-murder-cl",
                                    "2": "75"
                                },
                                {
                                    "0": "32721",
                                    "1": "women-studies",
                                    "2": "72"
                                },
                                {
                                    "0": "22269",
                                    "1": "older-man-younger-woman",
                                    "2": "72"
                                },
                                {
                                    "0": "27324",
                                    "1": "series-women-of-the-otherworld",
                                    "2": "67"
                                },
                                {
                                    "0": "32729",
                                    "1": "womens-issues",
                                    "2": "65"
                                },
                                {
                                    "0": "11652",
                                    "1": "female-lead",
                                    "2": "61"
                                },
                                {
                                    "0": "28834",
                                    "1": "strong-female-lead",
                                    "2": "61"
                                },
                                {
                                    "0": "11647",
                                    "1": "female-detectives",
                                    "2": "59"
                                },
                                {
                                    "0": "7195",
                                    "1": "christian-women",
                                    "2": "54"
                                },
                                {
                                    "0": "32725",
                                    "1": "womens",
                                    "2": "54"
                                },
                                {
                                    "0": "32698",
                                    "1": "women-murder-club",
                                    "2": "53"
                                },
                                {
                                    "0": "32710",
                                    "1": "women-s-history",
                                    "2": "49"
                                },
                                {
                                    "0": "3514",
                                    "1": "author-female",
                                    "2": "47"
                                },
                                {
                                    "0": "32683",
                                    "1": "womanhood",
                                    "2": "46"
                                },
                                {
                                    "0": "32706",
                                    "1": "women-s",
                                    "2": "31"
                                },
                                {
                                    "0": "28833",
                                    "1": "strong-female-characters",
                                    "2": "30"
                                },
                                {
                                    "0": "25408",
                                    "1": "readwomen2014",
                                    "2": "29"
                                },
                                {
                                    "0": "4455",
                                    "1": "biblical-womanhood",
                                    "2": "29"
                                },
                                {
                                    "0": "13810",
                                    "1": "gutsy-women",
                                    "2": "29"
                                },
                                {
                                    "0": "32712",
                                    "1": "women-s-lit",
                                    "2": "26"
                                },
                                {
                                    "0": "5129",
                                    "1": "books-by-women",
                                    "2": "25"
                                },
                                {
                                    "0": "6038",
                                    "1": "by-women",
                                    "2": "23"
                                },
                                {
                                    "0": "28830",
                                    "1": "strong-female",
                                    "2": "21"
                                },
                                {
                                    "0": "32718",
                                    "1": "women-s-prize-for-fiction",
                                    "2": "21"
                                },
                                {
                                    "0": "1149",
                                    "1": "500-women",
                                    "2": "21"
                                },
                                {
                                    "0": "32695",
                                    "1": "women-in-translation",
                                    "2": "19"
                                },
                                {
                                    "0": "12601",
                                    "1": "friendship-women",
                                    "2": "18"
                                },
                                {
                                    "0": "12328",
                                    "1": "for-women",
                                    "2": "17"
                                },
                                {
                                    "0": "23125",
                                    "1": "patterson-womens-murder-club",
                                    "2": "17"
                                },
                                {
                                    "0": "4006",
                                    "1": "batwoman",
                                    "2": "17"
                                },
                                {
                                    "0": "32709",
                                    "1": "women-s-health",
                                    "2": "16"
                                },
                                {
                                    "0": "14494",
                                    "1": "historical-fiction-civil-war-women",
                                    "2": "14"
                                },
                                {
                                    "0": "11650",
                                    "1": "female-friendship",
                                    "2": "14"
                                },
                                {
                                    "0": "1503",
                                    "1": "abused-women",
                                    "2": "14"
                                },
                                {
                                    "0": "32700",
                                    "1": "women-of-color",
                                    "2": "12"
                                },
                                {
                                    "0": "32690",
                                    "1": "women-feminism",
                                    "2": "11"
                                },
                                {
                                    "0": "2824",
                                    "1": "arab-women",
                                    "2": "11"
                                },
                                {
                                    "0": "32730",
                                    "1": "womens-lit",
                                    "2": "11"
                                },
                                {
                                    "0": "11655",
                                    "1": "female-pi",
                                    "2": "10"
                                },
                                {
                                    "0": "32692",
                                    "1": "women-friends",
                                    "2": "9"
                                },
                                {
                                    "0": "20722",
                                    "1": "muslim-women",
                                    "2": "9"
                                },
                                {
                                    "0": "27325",
                                    "1": "series-womens-murder-club",
                                    "2": "9"
                                },
                                {
                                    "0": "12694",
                                    "1": "funny-women",
                                    "2": "8"
                                },
                                {
                                    "0": "11659",
                                    "1": "female-serial-killer",
                                    "2": "8"
                                },
                                {
                                    "0": "32715",
                                    "1": "women-s-murder",
                                    "2": "8"
                                },
                                {
                                    "0": "23124",
                                    "1": "patterson-women-s-murder-club",
                                    "2": "8"
                                },
                                {
                                    "0": "23892",
                                    "1": "policewomen",
                                    "2": "8"
                                },
                                {
                                    "0": "1082",
                                    "1": "4-women-intertwined-stories",
                                    "2": "8"
                                },
                                {
                                    "0": "22270",
                                    "1": "older-woman",
                                    "2": "7"
                                },
                                {
                                    "0": "23671",
                                    "1": "pioneer-woman",
                                    "2": "7"
                                },
                                {
                                    "0": "10308",
                                    "1": "education-for-women",
                                    "2": "7"
                                },
                                {
                                    "0": "937",
                                    "1": "21-books-every-woman-should-read",
                                    "2": "7"
                                },
                                {
                                    "0": "28831",
                                    "1": "strong-female-character",
                                    "2": "7"
                                },
                                {
                                    "0": "32696",
                                    "1": "women-in-war",
                                    "2": "7"
                                },
                                {
                                    "0": "32687",
                                    "1": "women-and-religion",
                                    "2": "6"
                                },
                                {
                                    "0": "32694",
                                    "1": "women-in-medicine",
                                    "2": "6"
                                },
                                {
                                    "0": "29914",
                                    "1": "the-life-of-women-in-royal-family-o",
                                    "2": "6"
                                },
                                {
                                    "0": "4603",
                                    "1": "biographies-of-women",
                                    "2": "6"
                                },
                                {
                                    "0": "32699",
                                    "1": "women-of-a-certain-age",
                                    "2": "6"
                                },
                                {
                                    "0": "32728",
                                    "1": "womens-health",
                                    "2": "6"
                                },
                                {
                                    "0": "27824",
                                    "1": "single-women",
                                    "2": "6"
                                },
                                {
                                    "0": "19771",
                                    "1": "men-women",
                                    "2": "6"
                                },
                                {
                                    "0": "28835",
                                    "1": "strong-female-protagonist",
                                    "2": "5"
                                },
                                {
                                    "0": "3476",
                                    "1": "australian-women-writers",
                                    "2": "5"
                                },
                                {
                                    "0": "32680",
                                    "1": "woman-s-fiction",
                                    "2": "5"
                                },
                                {
                                    "0": "1741",
                                    "1": "afghan-female-entrepreneur-under-ta",
                                    "2": "5"
                                },
                                {
                                    "0": "5132",
                                    "1": "books-every-woman-should-read",
                                    "2": "5"
                                },
                                {
                                    "0": "7033",
                                    "1": "chinese-women",
                                    "2": "5"
                                },
                                {
                                    "0": "7194",
                                    "1": "christian-woman",
                                    "2": "5"
                                },
                                {
                                    "0": "15869",
                                    "1": "islamic-women",
                                    "2": "5"
                                },
                                {
                                    "0": "32693",
                                    "1": "women-friendships",
                                    "2": "4"
                                },
                                {
                                    "0": "452",
                                    "1": "1960s-women-s-status",
                                    "2": "4"
                                },
                                {
                                    "0": "32689",
                                    "1": "women-entrepeneurs",
                                    "2": "4"
                                },
                                {
                                    "0": "19757",
                                    "1": "memorable-woman-characters",
                                    "2": "4"
                                },
                                {
                                    "0": "32691",
                                    "1": "women-fiction",
                                    "2": "4"
                                },
                                {
                                    "0": "32679",
                                    "1": "woman-author",
                                    "2": "3"
                                },
                                {
                                    "0": "4622",
                                    "1": "biography-women",
                                    "2": "3"
                                },
                                {
                                    "0": "4729",
                                    "1": "black-ops-woman-team-cia-sean-case",
                                    "2": "3"
                                },
                                {
                                    "0": "23891",
                                    "1": "policewoman-potential-victim",
                                    "2": "3"
                                },
                                {
                                    "0": "23672",
                                    "1": "pioneer-women",
                                    "2": "3"
                                },
                                {
                                    "0": "11648",
                                    "1": "female-doctor",
                                    "2": "3"
                                },
                                {
                                    "0": "11653",
                                    "1": "female-main-character",
                                    "2": "3"
                                },
                                {
                                    "0": "11660",
                                    "1": "female-spy",
                                    "2": "3"
                                },
                                {
                                    "0": "1386",
                                    "1": "a-woman-after-god-s-own-heart",
                                    "2": "2"
                                },
                                {
                                    "0": "1387",
                                    "1": "a-woman-after-gods-own-heart",
                                    "2": "2"
                                },
                                {
                                    "0": "32727",
                                    "1": "womens-fiction-chick-lit",
                                    "2": "2"
                                },
                                {
                                    "0": "6267",
                                    "1": "career-women",
                                    "2": "2"
                                },
                                {
                                    "0": "10986",
                                    "1": "every-woman-should-read",
                                    "2": "2"
                                },
                                {
                                    "0": "32722",
                                    "1": "women-words-wine",
                                    "2": "2"
                                },
                                {
                                    "0": "11645",
                                    "1": "female-biographies",
                                    "2": "2"
                                },
                                {
                                    "0": "11649",
                                    "1": "female-fiction",
                                    "2": "2"
                                },
                                {
                                    "0": "11657",
                                    "1": "female-povs",
                                    "2": "2"
                                },
                                {
                                    "0": "32714",
                                    "1": "women-s-ministry",
                                    "2": "2"
                                },
                                {
                                    "0": "32713",
                                    "1": "women-s-literature",
                                    "2": "2"
                                },
                                {
                                    "0": "11661",
                                    "1": "female-writer",
                                    "2": "2"
                                },
                                {
                                    "0": "32707",
                                    "1": "women-s-bible-study",
                                    "2": "2"
                                },
                                {
                                    "0": "32705",
                                    "1": "women-read",
                                    "2": "2"
                                },
                                {
                                    "0": "32701",
                                    "1": "women-of-faith",
                                    "2": "2"
                                },
                                {
                                    "0": "25409",
                                    "1": "readwomen2016",
                                    "2": "2"
                                },
                                {
                                    "0": "32682",
                                    "1": "woman-trans-agender-authors",
                                    "2": "2"
                                },
                                {
                                    "0": "32684",
                                    "1": "womans-literature",
                                    "2": "2"
                                },
                                {
                                    "0": "15331",
                                    "1": "important-female-authors",
                                    "2": "1"
                                },
                                {
                                    "0": "17079",
                                    "1": "kick-ass-female",
                                    "2": "1"
                                },
                                {
                                    "0": "19772",
                                    "1": "men-women-relations",
                                    "2": "1"
                                },
                                {
                                    "0": "11654",
                                    "1": "female-persuasion",
                                    "2": "1"
                                },
                                {
                                    "0": "11651",
                                    "1": "female-genre-authors",
                                    "2": "1"
                                },
                                {
                                    "0": "22740",
                                    "1": "own-written-by-women",
                                    "2": "1"
                                },
                                {
                                    "0": "24455",
                                    "1": "protagonist-female",
                                    "2": "1"
                                },
                                {
                                    "0": "32723",
                                    "1": "women-write-big-books",
                                    "2": "1"
                                },
                                {
                                    "0": "7332",
                                    "1": "cis-women",
                                    "2": "1"
                                },
                                {
                                    "0": "28832",
                                    "1": "strong-female-character-s",
                                    "2": "1"
                                },
                                {
                                    "0": "28836",
                                    "1": "strong-female-supporting-characters",
                                    "2": "1"
                                },
                                {
                                    "0": "32697",
                                    "1": "women-literature",
                                    "2": "1"
                                },
                                {
                                    "0": "29324",
                                    "1": "tbr-ax-female",
                                    "2": "1"
                                },
                                {
                                    "0": "4309",
                                    "1": "best-adult-female-friendship-books",
                                    "2": "1"
                                },
                                {
                                    "0": "32731",
                                    "1": "womens-lit-to-read",
                                    "2": "1"
                                },
                                {
                                    "0": "3162",
                                    "1": "artist-women-bio",
                                    "2": "1"
                                },
                                {
                                    "0": "32734",
                                    "1": "womens-stories",
                                    "2": "1"
                                },
                                {
                                    "0": "891",
                                    "1": "2017-read-women",
                                    "2": "1"
                                }
                            ]
                        },
                        "text/html": [
                            "<table>",
                            "<tr><th>tag_id</th><th>tag_name</th><th>Total Tags</th></tr>",
                            "<tr><td>32686</td><td>women</td><td>24243</td></tr>",
                            "<tr><td>11643</td><td>female-author</td><td>17999</td></tr>",
                            "<tr><td>11644</td><td>female-authors</td><td>13690</td></tr>",
                            "<tr><td>32708</td><td>women-s-fiction</td><td>6052</td></tr>",
                            "<tr><td>32724</td><td>women-writers</td><td>5652</td></tr>",
                            "<tr><td>32726</td><td>womens-fiction</td><td>4740</td></tr>",
                            "<tr><td>32688</td><td>women-authors</td><td>4113</td></tr>",
                            "<tr><td>32716</td><td>women-s-murder-club</td><td>2578</td></tr>",
                            "<tr><td>11658</td><td>female-protagonist</td><td>2554</td></tr>",
                            "<tr><td>32732</td><td>womens-murder-club</td><td>1218</td></tr>",
                            "<tr><td>32702</td><td>women-of-the-otherworld</td><td>1021</td></tr>",
                            "<tr><td>28839</td><td>strong-women</td><td>641</td></tr>",
                            "<tr><td>32720</td><td>women-s-studies</td><td>624</td></tr>",
                            "<tr><td>32717</td><td>women-s-murder-club-series</td><td>373</td></tr>",
                            "<tr><td>16122</td><td>james-patterson-women-s-murder-club</td><td>357</td></tr>",
                            "<tr><td>32735</td><td>womens-studies</td><td>335</td></tr>",
                            "<tr><td>11646</td><td>female-detective</td><td>302</td></tr>",
                            "<tr><td>32733</td><td>womens-murder-club-series</td><td>217</td></tr>",
                            "<tr><td>16123</td><td>james-patterson-womens-murder-club</td><td>161</td></tr>",
                            "<tr><td>32703</td><td>women-of-the-otherworld-series</td><td>156</td></tr>",
                            "<tr><td>11656</td><td>female-pov</td><td>155</td></tr>",
                            "<tr><td>11662</td><td>female-writers</td><td>147</td></tr>",
                            "<tr><td>32681</td><td>woman-s-murder-club</td><td>136</td></tr>",
                            "<tr><td>32711</td><td>women-s-issues</td><td>133</td></tr>",
                            "<tr><td>11642</td><td>female</td><td>133</td></tr>",
                            "<tr><td>32719</td><td>women-s-rights</td><td>103</td></tr>",
                            "<tr><td>22271</td><td>older-woman-younger-man</td><td>97</td></tr>",
                            "<tr><td>19038</td><td>man-woman</td><td>93</td></tr>",
                            "<tr><td>32685</td><td>womans-murder-club</td><td>88</td></tr>",
                            "<tr><td>32740</td><td>wonder-woman</td><td>88</td></tr>",
                            "<tr><td>32704</td><td>women-of-the-underworld</td><td>78</td></tr>",
                            "<tr><td>18423</td><td>little-women</td><td>76</td></tr>",
                            "<tr><td>16121</td><td>james-patterson-women-s-murder-cl</td><td>75</td></tr>",
                            "<tr><td>32721</td><td>women-studies</td><td>72</td></tr>",
                            "<tr><td>22269</td><td>older-man-younger-woman</td><td>72</td></tr>",
                            "<tr><td>27324</td><td>series-women-of-the-otherworld</td><td>67</td></tr>",
                            "<tr><td>32729</td><td>womens-issues</td><td>65</td></tr>",
                            "<tr><td>11652</td><td>female-lead</td><td>61</td></tr>",
                            "<tr><td>28834</td><td>strong-female-lead</td><td>61</td></tr>",
                            "<tr><td>11647</td><td>female-detectives</td><td>59</td></tr>",
                            "<tr><td>7195</td><td>christian-women</td><td>54</td></tr>",
                            "<tr><td>32725</td><td>womens</td><td>54</td></tr>",
                            "<tr><td>32698</td><td>women-murder-club</td><td>53</td></tr>",
                            "<tr><td>32710</td><td>women-s-history</td><td>49</td></tr>",
                            "<tr><td>3514</td><td>author-female</td><td>47</td></tr>",
                            "<tr><td>32683</td><td>womanhood</td><td>46</td></tr>",
                            "<tr><td>32706</td><td>women-s</td><td>31</td></tr>",
                            "<tr><td>28833</td><td>strong-female-characters</td><td>30</td></tr>",
                            "<tr><td>25408</td><td>readwomen2014</td><td>29</td></tr>",
                            "<tr><td>4455</td><td>biblical-womanhood</td><td>29</td></tr>",
                            "<tr><td>13810</td><td>gutsy-women</td><td>29</td></tr>",
                            "<tr><td>32712</td><td>women-s-lit</td><td>26</td></tr>",
                            "<tr><td>5129</td><td>books-by-women</td><td>25</td></tr>",
                            "<tr><td>6038</td><td>by-women</td><td>23</td></tr>",
                            "<tr><td>28830</td><td>strong-female</td><td>21</td></tr>",
                            "<tr><td>32718</td><td>women-s-prize-for-fiction</td><td>21</td></tr>",
                            "<tr><td>1149</td><td>500-women</td><td>21</td></tr>",
                            "<tr><td>32695</td><td>women-in-translation</td><td>19</td></tr>",
                            "<tr><td>12601</td><td>friendship-women</td><td>18</td></tr>",
                            "<tr><td>12328</td><td>for-women</td><td>17</td></tr>",
                            "<tr><td>23125</td><td>patterson-womens-murder-club</td><td>17</td></tr>",
                            "<tr><td>4006</td><td>batwoman</td><td>17</td></tr>",
                            "<tr><td>32709</td><td>women-s-health</td><td>16</td></tr>",
                            "<tr><td>14494</td><td>historical-fiction-civil-war-women</td><td>14</td></tr>",
                            "<tr><td>11650</td><td>female-friendship</td><td>14</td></tr>",
                            "<tr><td>1503</td><td>abused-women</td><td>14</td></tr>",
                            "<tr><td>32700</td><td>women-of-color</td><td>12</td></tr>",
                            "<tr><td>32690</td><td>women-feminism</td><td>11</td></tr>",
                            "<tr><td>2824</td><td>arab-women</td><td>11</td></tr>",
                            "<tr><td>32730</td><td>womens-lit</td><td>11</td></tr>",
                            "<tr><td>11655</td><td>female-pi</td><td>10</td></tr>",
                            "<tr><td>32692</td><td>women-friends</td><td>9</td></tr>",
                            "<tr><td>20722</td><td>muslim-women</td><td>9</td></tr>",
                            "<tr><td>27325</td><td>series-womens-murder-club</td><td>9</td></tr>",
                            "<tr><td>12694</td><td>funny-women</td><td>8</td></tr>",
                            "<tr><td>11659</td><td>female-serial-killer</td><td>8</td></tr>",
                            "<tr><td>32715</td><td>women-s-murder</td><td>8</td></tr>",
                            "<tr><td>23124</td><td>patterson-women-s-murder-club</td><td>8</td></tr>",
                            "<tr><td>23892</td><td>policewomen</td><td>8</td></tr>",
                            "<tr><td>1082</td><td>4-women-intertwined-stories</td><td>8</td></tr>",
                            "<tr><td>22270</td><td>older-woman</td><td>7</td></tr>",
                            "<tr><td>23671</td><td>pioneer-woman</td><td>7</td></tr>",
                            "<tr><td>10308</td><td>education-for-women</td><td>7</td></tr>",
                            "<tr><td>937</td><td>21-books-every-woman-should-read</td><td>7</td></tr>",
                            "<tr><td>28831</td><td>strong-female-character</td><td>7</td></tr>",
                            "<tr><td>32696</td><td>women-in-war</td><td>7</td></tr>",
                            "<tr><td>32687</td><td>women-and-religion</td><td>6</td></tr>",
                            "<tr><td>32694</td><td>women-in-medicine</td><td>6</td></tr>",
                            "<tr><td>29914</td><td>the-life-of-women-in-royal-family-o</td><td>6</td></tr>",
                            "<tr><td>4603</td><td>biographies-of-women</td><td>6</td></tr>",
                            "<tr><td>32699</td><td>women-of-a-certain-age</td><td>6</td></tr>",
                            "<tr><td>32728</td><td>womens-health</td><td>6</td></tr>",
                            "<tr><td>27824</td><td>single-women</td><td>6</td></tr>",
                            "<tr><td>19771</td><td>men-women</td><td>6</td></tr>",
                            "<tr><td>28835</td><td>strong-female-protagonist</td><td>5</td></tr>",
                            "<tr><td>3476</td><td>australian-women-writers</td><td>5</td></tr>",
                            "<tr><td>32680</td><td>woman-s-fiction</td><td>5</td></tr>",
                            "<tr><td>1741</td><td>afghan-female-entrepreneur-under-ta</td><td>5</td></tr>",
                            "<tr><td>5132</td><td>books-every-woman-should-read</td><td>5</td></tr>",
                            "<tr><td>7033</td><td>chinese-women</td><td>5</td></tr>",
                            "<tr><td>7194</td><td>christian-woman</td><td>5</td></tr>",
                            "<tr><td>15869</td><td>islamic-women</td><td>5</td></tr>",
                            "<tr><td>32693</td><td>women-friendships</td><td>4</td></tr>",
                            "<tr><td>452</td><td>1960s-women-s-status</td><td>4</td></tr>",
                            "<tr><td>32689</td><td>women-entrepeneurs</td><td>4</td></tr>",
                            "<tr><td>19757</td><td>memorable-woman-characters</td><td>4</td></tr>",
                            "<tr><td>32691</td><td>women-fiction</td><td>4</td></tr>",
                            "<tr><td>32679</td><td>woman-author</td><td>3</td></tr>",
                            "<tr><td>4622</td><td>biography-women</td><td>3</td></tr>",
                            "<tr><td>4729</td><td>black-ops-woman-team-cia-sean-case</td><td>3</td></tr>",
                            "<tr><td>23891</td><td>policewoman-potential-victim</td><td>3</td></tr>",
                            "<tr><td>23672</td><td>pioneer-women</td><td>3</td></tr>",
                            "<tr><td>11648</td><td>female-doctor</td><td>3</td></tr>",
                            "<tr><td>11653</td><td>female-main-character</td><td>3</td></tr>",
                            "<tr><td>11660</td><td>female-spy</td><td>3</td></tr>",
                            "<tr><td>1386</td><td>a-woman-after-god-s-own-heart</td><td>2</td></tr>",
                            "<tr><td>1387</td><td>a-woman-after-gods-own-heart</td><td>2</td></tr>",
                            "<tr><td>32727</td><td>womens-fiction-chick-lit</td><td>2</td></tr>",
                            "<tr><td>6267</td><td>career-women</td><td>2</td></tr>",
                            "<tr><td>10986</td><td>every-woman-should-read</td><td>2</td></tr>",
                            "<tr><td>32722</td><td>women-words-wine</td><td>2</td></tr>",
                            "<tr><td>11645</td><td>female-biographies</td><td>2</td></tr>",
                            "<tr><td>11649</td><td>female-fiction</td><td>2</td></tr>",
                            "<tr><td>11657</td><td>female-povs</td><td>2</td></tr>",
                            "<tr><td>32714</td><td>women-s-ministry</td><td>2</td></tr>",
                            "<tr><td>32713</td><td>women-s-literature</td><td>2</td></tr>",
                            "<tr><td>11661</td><td>female-writer</td><td>2</td></tr>",
                            "<tr><td>32707</td><td>women-s-bible-study</td><td>2</td></tr>",
                            "<tr><td>32705</td><td>women-read</td><td>2</td></tr>",
                            "<tr><td>32701</td><td>women-of-faith</td><td>2</td></tr>",
                            "<tr><td>25409</td><td>readwomen2016</td><td>2</td></tr>",
                            "<tr><td>32682</td><td>woman-trans-agender-authors</td><td>2</td></tr>",
                            "<tr><td>32684</td><td>womans-literature</td><td>2</td></tr>",
                            "<tr><td>15331</td><td>important-female-authors</td><td>1</td></tr>",
                            "<tr><td>17079</td><td>kick-ass-female</td><td>1</td></tr>",
                            "<tr><td>19772</td><td>men-women-relations</td><td>1</td></tr>",
                            "<tr><td>11654</td><td>female-persuasion</td><td>1</td></tr>",
                            "<tr><td>11651</td><td>female-genre-authors</td><td>1</td></tr>",
                            "<tr><td>22740</td><td>own-written-by-women</td><td>1</td></tr>",
                            "<tr><td>24455</td><td>protagonist-female</td><td>1</td></tr>",
                            "<tr><td>32723</td><td>women-write-big-books</td><td>1</td></tr>",
                            "<tr><td>7332</td><td>cis-women</td><td>1</td></tr>",
                            "<tr><td>28832</td><td>strong-female-character-s</td><td>1</td></tr>",
                            "<tr><td>28836</td><td>strong-female-supporting-characters</td><td>1</td></tr>",
                            "<tr><td>32697</td><td>women-literature</td><td>1</td></tr>",
                            "<tr><td>29324</td><td>tbr-ax-female</td><td>1</td></tr>",
                            "<tr><td>4309</td><td>best-adult-female-friendship-books</td><td>1</td></tr>",
                            "<tr><td>32731</td><td>womens-lit-to-read</td><td>1</td></tr>",
                            "<tr><td>3162</td><td>artist-women-bio</td><td>1</td></tr>",
                            "<tr><td>32734</td><td>womens-stories</td><td>1</td></tr>",
                            "<tr><td>891</td><td>2017-read-women</td><td>1</td></tr>",
                            "</table>"
                        ]
                    }
                }
            ],
            "execution_count": 6
        },
        {
            "cell_type": "markdown",
            "source": [
                "### **Which keyword(s) and tag(s) would you like to explore more?**\n",
                "\n",
                "11643 - female-author\n",
                "\n",
                "11644 - female-authors\n",
                "\n",
                "32724 - women-writers"
            ],
            "metadata": {
                "azdata_cell_guid": "e9acd8b5-a62b-4ac0-bd07-19915b379ba6"
            },
            "attachments": {}
        },
        {
            "cell_type": "markdown",
            "source": [
                "### **Write a query to return authors, titles, ratings and** **selected tag(s)\\_id.**"
            ],
            "metadata": {
                "azdata_cell_guid": "59b84464-c0bc-4dac-9e02-0c803765b063"
            },
            "attachments": {}
        },
        {
            "cell_type": "code",
            "source": [
                "-- Solution\n",
                "SELECT TOP 20 b.authors, b.title, b.average_rating, SUM(t.count) AS 'Total Tags'\n",
                "FROM BooksDB.dbo.books as b\n",
                "JOIN BooksDB.dbo.book_tags as t\n",
                "ON b.best_book_id = t.goodreads_book_id\n",
                "WHERE t.tag_id = 11643 OR t.tag_id = 11644 OR t.tag_id = 32724\n",
                "GROUP BY b.authors, b.title, b.average_rating\n",
                "HAVING b.average_rating >= 4\n",
                "ORDER BY SUM(t.count) DESC\n",
                ""
            ],
            "metadata": {
                "azdata_cell_guid": "51ffeaaf-6dde-4906-95f3-eb8757babf27",
                "tags": [],
                "language": "sql"
            },
            "outputs": [
                {
                    "output_type": "display_data",
                    "data": {
                        "text/html": "(20 rows affected)"
                    },
                    "metadata": {}
                },
                {
                    "output_type": "display_data",
                    "data": {
                        "text/html": "Total execution time: 00:00:00.676"
                    },
                    "metadata": {}
                },
                {
                    "output_type": "execute_result",
                    "metadata": {},
                    "execution_count": 13,
                    "data": {
                        "application/vnd.dataresource+json": {
                            "schema": {
                                "fields": [
                                    {
                                        "name": "authors"
                                    },
                                    {
                                        "name": "title"
                                    },
                                    {
                                        "name": "average_rating"
                                    },
                                    {
                                        "name": "Total Tags"
                                    }
                                ]
                            },
                            "data": [
                                {
                                    "0": "Margaret Atwood",
                                    "1": "The Handmaid's Tale",
                                    "2": "4.06",
                                    "3": "544"
                                },
                                {
                                    "0": "Charlotte Brontë, Michael Mason",
                                    "1": "Jane Eyre",
                                    "2": "4.1",
                                    "3": "449"
                                },
                                {
                                    "0": "Chimamanda Ngozi Adichie",
                                    "1": "Americanah",
                                    "2": "4.26",
                                    "3": "221"
                                },
                                {
                                    "0": "Margaret Atwood",
                                    "1": "Oryx and Crake (MaddAddam, #1)",
                                    "2": "4",
                                    "3": "212"
                                },
                                {
                                    "0": "Jane Austen, Tony Tanner, Ros Ballaster",
                                    "1": "Sense and Sensibility",
                                    "2": "4.06",
                                    "3": "205"
                                },
                                {
                                    "0": "J.K. Rowling, Mary GrandPré",
                                    "1": "Harry Potter and the Order of the Phoenix (Harry Potter, #5)",
                                    "2": "4.46",
                                    "3": "194"
                                },
                                {
                                    "0": "Virginia Woolf",
                                    "1": "A Room of One's Own",
                                    "2": "4.1",
                                    "3": "174"
                                },
                                {
                                    "0": "Octavia E. Butler",
                                    "1": "Kindred",
                                    "2": "4.18",
                                    "3": "169"
                                },
                                {
                                    "0": "Emily St. John Mandel",
                                    "1": "Station Eleven",
                                    "2": "4.02",
                                    "3": "168"
                                },
                                {
                                    "0": "Maya Angelou",
                                    "1": "I Know Why the Caged Bird Sings",
                                    "2": "4.19",
                                    "3": "166"
                                },
                                {
                                    "0": "Jane Austen, James Kinsley, Deidre Shauna Lynch",
                                    "1": "Persuasion",
                                    "2": "4.13",
                                    "3": "164"
                                },
                                {
                                    "0": "Donna Tartt",
                                    "1": "The Secret History",
                                    "2": "4.07",
                                    "3": "160"
                                },
                                {
                                    "0": "Emma Donoghue",
                                    "1": "Room",
                                    "2": "4.03",
                                    "3": "160"
                                },
                                {
                                    "0": "Marjane Satrapi, Mattias Ripa, Blake Ferris, Anjali Singh",
                                    "1": "The Complete Persepolis",
                                    "2": "4.36",
                                    "3": "144"
                                },
                                {
                                    "0": "Shirley Jackson, Jonathan Lethem",
                                    "1": "We Have Always Lived in the Castle",
                                    "2": "4.05",
                                    "3": "143"
                                },
                                {
                                    "0": "Ursula K. Le Guin, Lech Jęczmyk",
                                    "1": "The Left Hand of Darkness",
                                    "2": "4.05",
                                    "3": "134"
                                },
                                {
                                    "0": "Isabel Allende, Magda Bogin",
                                    "1": "The House of the Spirits",
                                    "2": "4.2",
                                    "3": "130"
                                },
                                {
                                    "0": "Anne Frank, Eleanor Roosevelt, B.M. Mooyaart-Doubleday",
                                    "1": "The Diary of a Young Girl",
                                    "2": "4.1",
                                    "3": "128"
                                },
                                {
                                    "0": "Margaret Atwood",
                                    "1": "The Year of the Flood  (MaddAddam, #2)",
                                    "2": "4.05",
                                    "3": "127"
                                },
                                {
                                    "0": "Chimamanda Ngozi Adichie",
                                    "1": "We Should All Be Feminists",
                                    "2": "4.47",
                                    "3": "125"
                                }
                            ]
                        },
                        "text/html": [
                            "<table>",
                            "<tr><th>authors</th><th>title</th><th>average_rating</th><th>Total Tags</th></tr>",
                            "<tr><td>Margaret Atwood</td><td>The Handmaid's Tale</td><td>4.06</td><td>544</td></tr>",
                            "<tr><td>Charlotte Brontë, Michael Mason</td><td>Jane Eyre</td><td>4.1</td><td>449</td></tr>",
                            "<tr><td>Chimamanda Ngozi Adichie</td><td>Americanah</td><td>4.26</td><td>221</td></tr>",
                            "<tr><td>Margaret Atwood</td><td>Oryx and Crake (MaddAddam, #1)</td><td>4</td><td>212</td></tr>",
                            "<tr><td>Jane Austen, Tony Tanner, Ros Ballaster</td><td>Sense and Sensibility</td><td>4.06</td><td>205</td></tr>",
                            "<tr><td>J.K. Rowling, Mary GrandPré</td><td>Harry Potter and the Order of the Phoenix (Harry Potter, #5)</td><td>4.46</td><td>194</td></tr>",
                            "<tr><td>Virginia Woolf</td><td>A Room of One's Own</td><td>4.1</td><td>174</td></tr>",
                            "<tr><td>Octavia E. Butler</td><td>Kindred</td><td>4.18</td><td>169</td></tr>",
                            "<tr><td>Emily St. John Mandel</td><td>Station Eleven</td><td>4.02</td><td>168</td></tr>",
                            "<tr><td>Maya Angelou</td><td>I Know Why the Caged Bird Sings</td><td>4.19</td><td>166</td></tr>",
                            "<tr><td>Jane Austen, James Kinsley, Deidre Shauna Lynch</td><td>Persuasion</td><td>4.13</td><td>164</td></tr>",
                            "<tr><td>Donna Tartt</td><td>The Secret History</td><td>4.07</td><td>160</td></tr>",
                            "<tr><td>Emma Donoghue</td><td>Room</td><td>4.03</td><td>160</td></tr>",
                            "<tr><td>Marjane Satrapi, Mattias Ripa, Blake Ferris, Anjali Singh</td><td>The Complete Persepolis</td><td>4.36</td><td>144</td></tr>",
                            "<tr><td>Shirley Jackson, Jonathan Lethem</td><td>We Have Always Lived in the Castle</td><td>4.05</td><td>143</td></tr>",
                            "<tr><td>Ursula K. Le Guin, Lech Jęczmyk</td><td>The Left Hand of Darkness</td><td>4.05</td><td>134</td></tr>",
                            "<tr><td>Isabel Allende, Magda Bogin</td><td>The House of the Spirits</td><td>4.2</td><td>130</td></tr>",
                            "<tr><td>Anne Frank, Eleanor Roosevelt, B.M. Mooyaart-Doubleday</td><td>The Diary of a Young Girl</td><td>4.1</td><td>128</td></tr>",
                            "<tr><td>Margaret Atwood</td><td>The Year of the Flood  (MaddAddam, #2)</td><td>4.05</td><td>127</td></tr>",
                            "<tr><td>Chimamanda Ngozi Adichie</td><td>We Should All Be Feminists</td><td>4.47</td><td>125</td></tr>",
                            "</table>"
                        ]
                    }
                }
            ],
            "execution_count": 13
        },
        {
            "cell_type": "markdown",
            "source": [
                "### **Record your thoughts about why you wrote the query the way you did.**"
            ],
            "metadata": {
                "azdata_cell_guid": "1e19a72c-1bca-446b-a0c7-a8efbc35dcf1"
            },
            "attachments": {}
        },
        {
            "cell_type": "markdown",
            "source": [
                "# Part 2: Choose Another Month\n",
                "\n",
                "Choose another month and plan at least 2 events / promotions and answer the following questions.\n",
                "\n",
                "Which month did you choose?  August\n",
                "\n",
                "What 2 events / promotions are you highlighting?\n",
                "\n",
                "> 1. Hawaii Statehood Day (August 19th)\n",
                "> 2. National Left Handers' Day (August 13th)"
            ],
            "metadata": {
                "azdata_cell_guid": "3eaf376d-9de3-4553-a9d0-9caf74ee3d6a"
            },
            "attachments": {}
        },
        {
            "cell_type": "markdown",
            "source": [
                "# Part 3: Summarize your Work\n",
                "\n",
                "For each event write at least one query that joins any two tables in the BooksDB to support your choice and record you thoughts as to why you used the paticlular query. At least one of your queries needs to include a HAVING clause."
            ],
            "metadata": {
                "azdata_cell_guid": "1ba1363a-4f02-4962-a95a-93b80c5926b1"
            },
            "attachments": {}
        },
        {
            "cell_type": "code",
            "source": [
                "-- Event 1 Query\n",
                "SELECT n.tag_id, n.tag_name, sum(t.count) AS 'Total Tags'\n",
                "FROM BooksDB.dbo.book_tags t\n",
                "JOIN BooksDB.dbo.tags as n\n",
                "ON t.tag_id = n.tag_id \n",
                "GROUP BY n.tag_id, n.tag_name\n",
                "HAVING n.tag_name LIKE '%hawaii%' OR n.tag_name LIKE '%honolulu%'\n",
                "ORDER BY 'Total Tags' DESC"
            ],
            "metadata": {
                "azdata_cell_guid": "f50d32ce-4cb2-4af2-acb1-607777a76cf8",
                "language": "sql"
            },
            "outputs": [
                {
                    "output_type": "display_data",
                    "data": {
                        "text/html": "(3 rows affected)"
                    },
                    "metadata": {}
                },
                {
                    "output_type": "display_data",
                    "data": {
                        "text/html": "Total execution time: 00:00:00.337"
                    },
                    "metadata": {}
                },
                {
                    "output_type": "execute_result",
                    "metadata": {},
                    "execution_count": 68,
                    "data": {
                        "application/vnd.dataresource+json": {
                            "schema": {
                                "fields": [
                                    {
                                        "name": "tag_id"
                                    },
                                    {
                                        "name": "tag_name"
                                    },
                                    {
                                        "name": "Total Tags"
                                    }
                                ]
                            },
                            "data": [
                                {
                                    "0": "14106",
                                    "1": "hawaii",
                                    "2": "756"
                                },
                                {
                                    "0": "14798",
                                    "1": "honolulu",
                                    "2": "7"
                                },
                                {
                                    "0": "14107",
                                    "1": "hawaiiana",
                                    "2": "6"
                                }
                            ]
                        },
                        "text/html": [
                            "<table>",
                            "<tr><th>tag_id</th><th>tag_name</th><th>Total Tags</th></tr>",
                            "<tr><td>14106</td><td>hawaii</td><td>756</td></tr>",
                            "<tr><td>14798</td><td>honolulu</td><td>7</td></tr>",
                            "<tr><td>14107</td><td>hawaiiana</td><td>6</td></tr>",
                            "</table>"
                        ]
                    }
                }
            ],
            "execution_count": 68
        },
        {
            "cell_type": "code",
            "source": [
                "SELECT TOP 5 b.authors, b.title, b.average_rating, SUM(t.count) AS 'Total Tags'\n",
                "FROM BooksDB.dbo.books as b\n",
                "JOIN BooksDB.dbo.book_tags as t\n",
                "ON b.best_book_id = t.goodreads_book_id\n",
                "WHERE t.tag_id IN \n",
                "    (SELECT n.tag_id\n",
                "    FROM BooksDB.dbo.book_tags t\n",
                "    JOIN BooksDB.dbo.tags as n\n",
                "    ON t.tag_id = n.tag_id \n",
                "    GROUP BY n.tag_id, n.tag_name\n",
                "    HAVING n.tag_name LIKE '%hawaii%' OR n.tag_name LIKE '%honolulu%')\n",
                "GROUP BY b.authors, b.title, b.average_rating\n",
                "ORDER BY SUM(t.count) DESC;"
            ],
            "metadata": {
                "azdata_cell_guid": "5606f7f2-c46b-42d3-ac64-7ae21c3394f8",
                "language": "sql",
                "tags": []
            },
            "outputs": [
                {
                    "output_type": "display_data",
                    "data": {
                        "text/html": "(5 rows affected)"
                    },
                    "metadata": {}
                },
                {
                    "output_type": "display_data",
                    "data": {
                        "text/html": "Total execution time: 00:00:00.405"
                    },
                    "metadata": {}
                },
                {
                    "output_type": "execute_result",
                    "metadata": {},
                    "execution_count": 30,
                    "data": {
                        "application/vnd.dataresource+json": {
                            "schema": {
                                "fields": [
                                    {
                                        "name": "authors"
                                    },
                                    {
                                        "name": "title"
                                    },
                                    {
                                        "name": "average_rating"
                                    },
                                    {
                                        "name": "Total Tags"
                                    }
                                ]
                            },
                            "data": [
                                {
                                    "0": "Alan Brennert",
                                    "1": "Moloka'i",
                                    "2": "4.15",
                                    "3": "234"
                                },
                                {
                                    "0": "Sarah Vowell",
                                    "1": "Unfamiliar Fishes",
                                    "2": "3.6",
                                    "3": "129"
                                },
                                {
                                    "0": "James A. Michener",
                                    "1": "Hawaii",
                                    "2": "4.18",
                                    "3": "121"
                                },
                                {
                                    "0": "Alan Brennert",
                                    "1": "Honolulu",
                                    "2": "4.02",
                                    "3": "116"
                                },
                                {
                                    "0": "Kaui Hart Hemmings",
                                    "1": "The Descendants",
                                    "2": "3.82",
                                    "3": "81"
                                }
                            ]
                        },
                        "text/html": [
                            "<table>",
                            "<tr><th>authors</th><th>title</th><th>average_rating</th><th>Total Tags</th></tr>",
                            "<tr><td>Alan Brennert</td><td>Moloka'i</td><td>4.15</td><td>234</td></tr>",
                            "<tr><td>Sarah Vowell</td><td>Unfamiliar Fishes</td><td>3.6</td><td>129</td></tr>",
                            "<tr><td>James A. Michener</td><td>Hawaii</td><td>4.18</td><td>121</td></tr>",
                            "<tr><td>Alan Brennert</td><td>Honolulu</td><td>4.02</td><td>116</td></tr>",
                            "<tr><td>Kaui Hart Hemmings</td><td>The Descendants</td><td>3.82</td><td>81</td></tr>",
                            "</table>"
                        ]
                    }
                }
            ],
            "execution_count": 30
        },
        {
            "cell_type": "markdown",
            "source": [
                "### **Summary of event 1:**\n",
                "\n",
                "For Hawaii statehood day, I did a similar search for keywords in the tag names like the for Part 1.  This time, I used the keywords of \"Hawaii\" and \"Honolulu\".  Since this was the same process used, I switched things up by inserting this lookup as the subquery into my main query.  The main query searched for the books with the highest number of those tag ids. Similar to the Part 1 exercise, I used the \"HAVING\" clause to limit the results by average rating, but there were only 3 books above 4 average rating, so I lowered the limit to a minimum average rating of 3 and sorted in decending order of tags (an indicator of popularity as well as strength of the tag).  After the first 5 books of this result, the number of tags dropped significantly, indicating that perhaps the book was not about Hawaii or the setting was not as obvious, so I limited to the top 5 for my choices."
            ],
            "metadata": {
                "azdata_cell_guid": "3bc72d4c-077b-42d3-9528-9aff8e7b6cf3"
            },
            "attachments": {}
        },
        {
            "cell_type": "code",
            "source": [
                "-- Event 2 Query\n",
                "\n",
                "/* Famous Left Handed People \n",
                "Ruth Bader Ginsburg\n",
                "Tina Fey\n",
                "Jimi Hendrix\n",
                "Tim Tebow\n",
                "Jon Stewart\n",
                "Barack Obama\n",
                "LeBron James\n",
                "Buzz Aldrin\n",
                "Winston Churchill\n",
                "Tim Tebow\n",
                "Oprah Winfrey\n",
                "Albert Einstein\n",
                "Jimi Hendrix*/\n",
                "\n",
                "SELECT TOP 5 b.authors, b.title, SUM(t.count) AS 'Total Tags'\n",
                "FROM BooksDB.dbo.book_tags as t\n",
                "JOIN BooksDB.dbo.tags as n\n",
                "ON t.tag_id = n.tag_id\n",
                "JOIN BooksDB.dbo.books as b\n",
                "ON t.goodreads_book_id = b.best_book_id\n",
                "WHERE b.title LIKE '%Ruth%Ginsburg%' OR b.authors LIKE '%Ruth%Ginsburg%' OR n.tag_name LIKE '%Ruth%Ginsburg%'\n",
                "GROUP BY b.authors, b.title\n",
                "ORDER BY 'Total Tags' DESC\n",
                "\n",
                "SELECT TOP 5 b.authors, b.title, SUM(t.count) AS 'Total Tags'\n",
                "FROM BooksDB.dbo.book_tags as t\n",
                "JOIN BooksDB.dbo.tags as n\n",
                "ON t.tag_id = n.tag_id\n",
                "JOIN BooksDB.dbo.books as b\n",
                "ON t.goodreads_book_id = b.best_book_id\n",
                "WHERE b.title LIKE '%Tina%Fey%' OR b.authors LIKE '%Tina%Fey%' OR n.tag_name LIKE '%Tina%Fey%'\n",
                "GROUP BY b.authors, b.title\n",
                "ORDER BY 'Total Tags' DESC\n",
                "\n",
                "SELECT TOP 5 b.authors, b.title, SUM(t.count) AS 'Total Tags'\n",
                "FROM BooksDB.dbo.book_tags as t\n",
                "JOIN BooksDB.dbo.tags as n\n",
                "ON t.tag_id = n.tag_id\n",
                "JOIN BooksDB.dbo.books as b\n",
                "ON t.goodreads_book_id = b.best_book_id\n",
                "WHERE b.title LIKE '%Winston%Churchill%' OR b.authors LIKE '%Winston%Churchill%' OR n.tag_name LIKE '%Winston%Churchill%'\n",
                "GROUP BY b.authors, b.title\n",
                "ORDER BY 'Total Tags' DESC\n",
                "\n",
                "SELECT TOP 5 b.authors, b.title, SUM(t.count) AS 'Total Tags'\n",
                "FROM BooksDB.dbo.book_tags as t\n",
                "JOIN BooksDB.dbo.tags as n\n",
                "ON t.tag_id = n.tag_id\n",
                "JOIN BooksDB.dbo.books as b\n",
                "ON t.goodreads_book_id = b.best_book_id\n",
                "WHERE b.title LIKE '%Tim%Tebow%' OR b.authors LIKE '%Tim%Tebow%' OR n.tag_name LIKE '%Tim%Tebow%'\n",
                "GROUP BY b.authors, b.title\n",
                "ORDER BY 'Total Tags' DESC\n",
                "\n",
                "SELECT TOP 5 b.authors, b.title, SUM(t.count) AS 'Total Tags'\n",
                "FROM BooksDB.dbo.book_tags as t\n",
                "JOIN BooksDB.dbo.tags as n\n",
                "ON t.tag_id = n.tag_id\n",
                "JOIN BooksDB.dbo.books as b\n",
                "ON t.goodreads_book_id = b.best_book_id\n",
                "WHERE b.title LIKE '%Jon%Stewart%' OR b.authors LIKE '%Jon%Stewart%' OR n.tag_name LIKE '%Jon%Stewart%'\n",
                "GROUP BY b.authors, b.title\n",
                "ORDER BY 'Total Tags' DESC\n",
                "\n",
                "SELECT TOP 5 b.authors, b.title, SUM(t.count) AS 'Total Tags'\n",
                "FROM BooksDB.dbo.book_tags as t\n",
                "JOIN BooksDB.dbo.tags as n\n",
                "ON t.tag_id = n.tag_id\n",
                "JOIN BooksDB.dbo.books as b\n",
                "ON t.goodreads_book_id = b.best_book_id\n",
                "WHERE b.title LIKE '%Barack%Obama%' OR b.authors LIKE '%Barack%Obama%' OR n.tag_name LIKE '%Barack%Obama%'\n",
                "GROUP BY b.authors, b.title\n",
                "ORDER BY 'Total Tags' DESC\n",
                "\n",
                "SELECT TOP 5 b.authors, b.title, SUM(t.count) AS 'Total Tags'\n",
                "FROM BooksDB.dbo.book_tags as t\n",
                "JOIN BooksDB.dbo.tags as n\n",
                "ON t.tag_id = n.tag_id\n",
                "JOIN BooksDB.dbo.books as b\n",
                "ON t.goodreads_book_id = b.best_book_id\n",
                "WHERE b.title LIKE '%Oprah%Winfrey%' OR b.authors LIKE '%Oprah%Winfrey%' OR n.tag_name LIKE '%Oprah%Winfrey%'\n",
                "GROUP BY b.authors, b.title\n",
                "ORDER BY 'Total Tags' DESC\n",
                "\n",
                "SELECT TOP 5 b.authors, b.title, SUM(t.count) AS 'Total Tags'\n",
                "FROM BooksDB.dbo.book_tags as t\n",
                "JOIN BooksDB.dbo.tags as n\n",
                "ON t.tag_id = n.tag_id\n",
                "JOIN BooksDB.dbo.books as b\n",
                "ON t.goodreads_book_id = b.best_book_id\n",
                "WHERE b.title LIKE '%Albert%Einstein%' OR b.authors LIKE '%Albert%Einstein%' OR n.tag_name LIKE '%Albert%Einstein%'\n",
                "GROUP BY b.authors, b.title\n",
                "ORDER BY 'Total Tags' DESC\n",
                ""
            ],
            "metadata": {
                "azdata_cell_guid": "dca0a98f-065f-4b0e-9d93-fcb01cad668c",
                "language": "sql"
            },
            "outputs": [
                {
                    "output_type": "display_data",
                    "data": {
                        "text/html": "(1 row affected)"
                    },
                    "metadata": {}
                },
                {
                    "output_type": "display_data",
                    "data": {
                        "text/html": "(1 row affected)"
                    },
                    "metadata": {}
                },
                {
                    "output_type": "display_data",
                    "data": {
                        "text/html": "(1 row affected)"
                    },
                    "metadata": {}
                },
                {
                    "output_type": "display_data",
                    "data": {
                        "text/html": "(1 row affected)"
                    },
                    "metadata": {}
                },
                {
                    "output_type": "display_data",
                    "data": {
                        "text/html": "(2 rows affected)"
                    },
                    "metadata": {}
                },
                {
                    "output_type": "display_data",
                    "data": {
                        "text/html": "(2 rows affected)"
                    },
                    "metadata": {}
                },
                {
                    "output_type": "display_data",
                    "data": {
                        "text/html": "(1 row affected)"
                    },
                    "metadata": {}
                },
                {
                    "output_type": "display_data",
                    "data": {
                        "text/html": "(3 rows affected)"
                    },
                    "metadata": {}
                },
                {
                    "output_type": "display_data",
                    "data": {
                        "text/html": "Total execution time: 00:00:40.351"
                    },
                    "metadata": {}
                },
                {
                    "output_type": "execute_result",
                    "metadata": {},
                    "execution_count": 67,
                    "data": {
                        "application/vnd.dataresource+json": {
                            "schema": {
                                "fields": [
                                    {
                                        "name": "authors"
                                    },
                                    {
                                        "name": "title"
                                    },
                                    {
                                        "name": "Total Tags"
                                    }
                                ]
                            },
                            "data": [
                                {
                                    "0": "Irin Carmon, Shana Knizhnik",
                                    "1": "Notorious RBG: The Life and Times of Ruth Bader Ginsburg",
                                    "2": "40883"
                                }
                            ]
                        },
                        "text/html": [
                            "<table>",
                            "<tr><th>authors</th><th>title</th><th>Total Tags</th></tr>",
                            "<tr><td>Irin Carmon, Shana Knizhnik</td><td>Notorious RBG: The Life and Times of Ruth Bader Ginsburg</td><td>40883</td></tr>",
                            "</table>"
                        ]
                    }
                },
                {
                    "output_type": "execute_result",
                    "metadata": {},
                    "execution_count": 67,
                    "data": {
                        "application/vnd.dataresource+json": {
                            "schema": {
                                "fields": [
                                    {
                                        "name": "authors"
                                    },
                                    {
                                        "name": "title"
                                    },
                                    {
                                        "name": "Total Tags"
                                    }
                                ]
                            },
                            "data": [
                                {
                                    "0": "Tina Fey",
                                    "1": "Bossypants",
                                    "2": "387679"
                                }
                            ]
                        },
                        "text/html": [
                            "<table>",
                            "<tr><th>authors</th><th>title</th><th>Total Tags</th></tr>",
                            "<tr><td>Tina Fey</td><td>Bossypants</td><td>387679</td></tr>",
                            "</table>"
                        ]
                    }
                },
                {
                    "output_type": "execute_result",
                    "metadata": {},
                    "execution_count": 67,
                    "data": {
                        "application/vnd.dataresource+json": {
                            "schema": {
                                "fields": [
                                    {
                                        "name": "authors"
                                    },
                                    {
                                        "name": "title"
                                    },
                                    {
                                        "name": "Total Tags"
                                    }
                                ]
                            },
                            "data": [
                                {
                                    "0": "Susan Elia MacNeal",
                                    "1": "Mr. Churchill's Secretary (Maggie Hope Mystery, #1)",
                                    "2": "7"
                                }
                            ]
                        },
                        "text/html": [
                            "<table>",
                            "<tr><th>authors</th><th>title</th><th>Total Tags</th></tr>",
                            "<tr><td>Susan Elia MacNeal</td><td>Mr. Churchill's Secretary (Maggie Hope Mystery, #1)</td><td>7</td></tr>",
                            "</table>"
                        ]
                    }
                },
                {
                    "output_type": "execute_result",
                    "metadata": {},
                    "execution_count": 67,
                    "data": {
                        "application/vnd.dataresource+json": {
                            "schema": {
                                "fields": [
                                    {
                                        "name": "authors"
                                    },
                                    {
                                        "name": "title"
                                    },
                                    {
                                        "name": "Total Tags"
                                    }
                                ]
                            },
                            "data": [
                                {
                                    "0": "Tim Tebow, Nathan Whitaker",
                                    "1": "Through My Eyes",
                                    "2": "9507"
                                }
                            ]
                        },
                        "text/html": [
                            "<table>",
                            "<tr><th>authors</th><th>title</th><th>Total Tags</th></tr>",
                            "<tr><td>Tim Tebow, Nathan Whitaker</td><td>Through My Eyes</td><td>9507</td></tr>",
                            "</table>"
                        ]
                    }
                },
                {
                    "output_type": "execute_result",
                    "metadata": {},
                    "execution_count": 67,
                    "data": {
                        "application/vnd.dataresource+json": {
                            "schema": {
                                "fields": [
                                    {
                                        "name": "authors"
                                    },
                                    {
                                        "name": "title"
                                    },
                                    {
                                        "name": "Total Tags"
                                    }
                                ]
                            },
                            "data": [
                                {
                                    "0": "Jon Stewart, Ben Karlin, David Javerbaum, Rich Bloomquist, Steve Bodow, Tim Carvell, Eric Drysdale, J.R. Havlan, Scott Jacobson, Tom Johnson, Rob Kutner, Chris Regan, Jason Reich, Jason Ross, Stephen Colbert, Samantha Bee, Rob Corddry, Brendan Hay, Ed Helms",
                                    "1": "America (The Book): A Citizen's Guide to Democracy Inaction",
                                    "2": "43550"
                                },
                                {
                                    "0": "Jon Stewart, Rory Albanese, Kevin Bleyer, Rich Bloomquist, Steve Bodow, Tim Carvell, Wyatt Cenac, Hallie Haglund, J.R. Havlan, David Javerbaum, Elliott Kalan, Josh Lieb, Sam Means, Jo Miller, John Oliver, Daniel Radosh, Jason Ross",
                                    "1": "Earth (The Book): A Visitor's Guide to the Human Race",
                                    "2": "11658"
                                }
                            ]
                        },
                        "text/html": [
                            "<table>",
                            "<tr><th>authors</th><th>title</th><th>Total Tags</th></tr>",
                            "<tr><td>Jon Stewart, Ben Karlin, David Javerbaum, Rich Bloomquist, Steve Bodow, Tim Carvell, Eric Drysdale, J.R. Havlan, Scott Jacobson, Tom Johnson, Rob Kutner, Chris Regan, Jason Reich, Jason Ross, Stephen Colbert, Samantha Bee, Rob Corddry, Brendan Hay, Ed Helms</td><td>America (The Book): A Citizen's Guide to Democracy Inaction</td><td>43550</td></tr>",
                            "<tr><td>Jon Stewart, Rory Albanese, Kevin Bleyer, Rich Bloomquist, Steve Bodow, Tim Carvell, Wyatt Cenac, Hallie Haglund, J.R. Havlan, David Javerbaum, Elliott Kalan, Josh Lieb, Sam Means, Jo Miller, John Oliver, Daniel Radosh, Jason Ross</td><td>Earth (The Book): A Visitor's Guide to the Human Race</td><td>11658</td></tr>",
                            "</table>"
                        ]
                    }
                },
                {
                    "output_type": "execute_result",
                    "metadata": {},
                    "execution_count": 67,
                    "data": {
                        "application/vnd.dataresource+json": {
                            "schema": {
                                "fields": [
                                    {
                                        "name": "authors"
                                    },
                                    {
                                        "name": "title"
                                    },
                                    {
                                        "name": "Total Tags"
                                    }
                                ]
                            },
                            "data": [
                                {
                                    "0": "Barack Obama",
                                    "1": "The Audacity of Hope: Thoughts on Reclaiming the American Dream",
                                    "2": "123051"
                                },
                                {
                                    "0": "Barack Obama",
                                    "1": "Dreams from My Father: A Story of Race and Inheritance",
                                    "2": "20338"
                                }
                            ]
                        },
                        "text/html": [
                            "<table>",
                            "<tr><th>authors</th><th>title</th><th>Total Tags</th></tr>",
                            "<tr><td>Barack Obama</td><td>The Audacity of Hope: Thoughts on Reclaiming the American Dream</td><td>123051</td></tr>",
                            "<tr><td>Barack Obama</td><td>Dreams from My Father: A Story of Race and Inheritance</td><td>20338</td></tr>",
                            "</table>"
                        ]
                    }
                },
                {
                    "output_type": "execute_result",
                    "metadata": {},
                    "execution_count": 67,
                    "data": {
                        "application/vnd.dataresource+json": {
                            "schema": {
                                "fields": [
                                    {
                                        "name": "authors"
                                    },
                                    {
                                        "name": "title"
                                    },
                                    {
                                        "name": "Total Tags"
                                    }
                                ]
                            },
                            "data": [
                                {
                                    "0": "Oprah Winfrey",
                                    "1": "What I Know for Sure",
                                    "2": "18410"
                                }
                            ]
                        },
                        "text/html": [
                            "<table>",
                            "<tr><th>authors</th><th>title</th><th>Total Tags</th></tr>",
                            "<tr><td>Oprah Winfrey</td><td>What I Know for Sure</td><td>18410</td></tr>",
                            "</table>"
                        ]
                    }
                },
                {
                    "output_type": "execute_result",
                    "metadata": {},
                    "execution_count": 67,
                    "data": {
                        "application/vnd.dataresource+json": {
                            "schema": {
                                "fields": [
                                    {
                                        "name": "authors"
                                    },
                                    {
                                        "name": "title"
                                    },
                                    {
                                        "name": "Total Tags"
                                    }
                                ]
                            },
                            "data": [
                                {
                                    "0": "Christopher Hitchens, Titus Lucretius Carus, Omar Khayyám, Thomas Hobbes, Baruch Spinoza, David Hume, James Boswell, Percy Bysshe Shelley, George Eliot, Charles Darwin, Leslie Stephen, Anatole France, Mark Twain, Joseph Conrad, Thomas Hardy, Emma Goldman, H.P. Lovecraft, Carl Van Doren, H.L. Mencken, Sigmund Freud, Albert Einstein, George Orwell, John Betjeman, Chapman Cohen, Bertrand Russell, Philip Larkin, Martin Gardner, Carl Sagan, John Updike, John Leslie Mackie, Michael Shermer, A.J. Ayer, Daniel C. Dennett, Charles Templeton, Richard Dawkins, Victor J. Stenger, Elizabeth S.  Anderson, Penn Jillette, Ian McEwan, Steven Weinberg, Salman Rushdie, Ibn Warraq, Sam Harris, A.C. Grayling, Ayaan Hirsi Ali, John Stuart Mill, Karl Marx",
                                    "1": "The Portable Atheist: Essential Readings for the Nonbeliever",
                                    "2": "29624"
                                },
                                {
                                    "0": "Albert Einstein, Nigel Calder, Robert W. Lawson",
                                    "1": "Relativity: The Special and the General Theory",
                                    "2": "3016"
                                },
                                {
                                    "0": "Walter Isaacson",
                                    "1": "Einstein: His Life and Universe",
                                    "2": "17"
                                }
                            ]
                        },
                        "text/html": [
                            "<table>",
                            "<tr><th>authors</th><th>title</th><th>Total Tags</th></tr>",
                            "<tr><td>Christopher Hitchens, Titus Lucretius Carus, Omar Khayyám, Thomas Hobbes, Baruch Spinoza, David Hume, James Boswell, Percy Bysshe Shelley, George Eliot, Charles Darwin, Leslie Stephen, Anatole France, Mark Twain, Joseph Conrad, Thomas Hardy, Emma Goldman, H.P. Lovecraft, Carl Van Doren, H.L. Mencken, Sigmund Freud, Albert Einstein, George Orwell, John Betjeman, Chapman Cohen, Bertrand Russell, Philip Larkin, Martin Gardner, Carl Sagan, John Updike, John Leslie Mackie, Michael Shermer, A.J. Ayer, Daniel C. Dennett, Charles Templeton, Richard Dawkins, Victor J. Stenger, Elizabeth S.  Anderson, Penn Jillette, Ian McEwan, Steven Weinberg, Salman Rushdie, Ibn Warraq, Sam Harris, A.C. Grayling, Ayaan Hirsi Ali, John Stuart Mill, Karl Marx</td><td>The Portable Atheist: Essential Readings for the Nonbeliever</td><td>29624</td></tr>",
                            "<tr><td>Albert Einstein, Nigel Calder, Robert W. Lawson</td><td>Relativity: The Special and the General Theory</td><td>3016</td></tr>",
                            "<tr><td>Walter Isaacson</td><td>Einstein: His Life and Universe</td><td>17</td></tr>",
                            "</table>"
                        ]
                    }
                }
            ],
            "execution_count": 67
        },
        {
            "cell_type": "markdown",
            "source": [
                "### **Summary of event 2:**\n",
                "\n",
                "For National Left Handers' Day, I attempted to frame my search in a similar manner as the other searches (searching tag names for keywords).  However, there were no results in the tags for keywords such as %left%hand%, %southpaw%, or %leftie%.  I then searched the titles for similar keywords but only had two results which did not appear to be _about_ left handedness.  Instead, I decided to come up with a list of famous left handed people and search for autobiographies or biographies about them or just the most popular book by them.  The comment block of people shows the full list of people I tried, but the ones coded are those that had results.  Since I wanted to have a finding of the most tagged book for each person, I did a separate query for each.  I limited each search to the top 5, but none had more than 3.  For my display, I would likely use the top result for each person except for the search about Albert Einstein which had a top result of a Christopher Hitchens book about atheism."
            ],
            "metadata": {
                "azdata_cell_guid": "99d518dc-cd8b-42d6-9a9d-708771c9aa99"
            },
            "attachments": {}
        }
    ]
}